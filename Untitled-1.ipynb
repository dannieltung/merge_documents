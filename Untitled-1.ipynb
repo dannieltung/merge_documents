{
 "cells": [
  {
   "cell_type": "code",
   "execution_count": null,
   "metadata": {},
   "outputs": [],
   "source": [
    "import os\n",
    "import shutil\n",
    "from PIL import Image\n",
    "from PyPDF2 import PdfMerger\n",
    "\n",
    "# Define the source directory for use in subsequent cells\n",
    "source_dir = \"/Users/dannieltung/Desktop/placeholder\"\n"
   ]
  },
  {
   "cell_type": "markdown",
   "metadata": {},
   "source": [
    "## Criar uma pasta para cada boleto\n"
   ]
  },
  {
   "cell_type": "code",
   "execution_count": null,
   "metadata": {},
   "outputs": [],
   "source": [
    "# Step 2: Iterate through each file in the directory\n",
    "for item in os.listdir(source_dir):\n",
    "    full_path = os.path.join(source_dir, item)\n",
    "    \n",
    "    # Check if it is a file and not a directory\n",
    "    if os.path.isfile(full_path):\n",
    "        # Separate the file name from its extension\n",
    "        file_name, file_extension = os.path.splitext(item)\n",
    "        \n",
    "        # Create a new folder name based on the file name\n",
    "        new_folder_path = os.path.join(source_dir, file_name)\n",
    "        \n",
    "        # Check if the folder exists, if not, create it\n",
    "        if not os.path.exists(new_folder_path):\n",
    "            os.makedirs(new_folder_path)\n",
    "        \n",
    "        # Move the file into the new folder\n",
    "        shutil.move(full_path, new_folder_path)\n",
    "\n",
    "print(\"Files have been organized into respective folders.\")\n"
   ]
  },
  {
   "cell_type": "markdown",
   "metadata": {},
   "source": [
    "## Verificar quantas pastas possuem apenas 1 item dentro (não possuem o comprovante)"
   ]
  },
  {
   "cell_type": "code",
   "execution_count": null,
   "metadata": {},
   "outputs": [],
   "source": [
    "# Initialize a counter for folders with exactly one file\n",
    "folders_with_one_file = 0\n",
    "\n",
    "# Iterate through each item in the directory\n",
    "for item in os.listdir(source_dir):\n",
    "    item_path = os.path.join(source_dir, item)\n",
    "    \n",
    "    # Check if the item is a directory\n",
    "    if os.path.isdir(item_path):\n",
    "        # List all files in the directory\n",
    "        files = [f for f in os.listdir(item_path) if os.path.isfile(os.path.join(item_path, f))]\n",
    "        \n",
    "        # Check if the directory contains exactly one file\n",
    "        if len(files) == 1:\n",
    "            folders_with_one_file += 1\n",
    "\n",
    "# Print the result\n",
    "print(f\"Number of folders with exactly one file: {folders_with_one_file}\")\n"
   ]
  },
  {
   "cell_type": "markdown",
   "metadata": {},
   "source": [
    "## Converter todos os arquivos dentro das pastas para .pdf"
   ]
  },
  {
   "cell_type": "code",
   "execution_count": null,
   "metadata": {},
   "outputs": [],
   "source": [
    "for folder_name in os.listdir(source_dir):\n",
    "    folder_path = os.path.join(source_dir, folder_name)\n",
    "\n",
    "    if os.path.isdir(folder_path):\n",
    "        for file_name in os.listdir(folder_path):\n",
    "            if file_name.lower().endswith(('.png', '.jpg', '.jpeg')):\n",
    "                file_path = os.path.join(folder_path, file_name)\n",
    "                image = Image.open(file_path)\n",
    "                image = image.convert('RGB')  # Convert to RGB format\n",
    "\n",
    "                # Create PDF file name and save as PDF\n",
    "                pdf_file_name = f\"{os.path.splitext(file_name)[0]}.pdf\"\n",
    "                pdf_file_path = os.path.join(folder_path, pdf_file_name)\n",
    "                image.save(pdf_file_path)\n",
    "\n",
    "                # Delete the original image file\n",
    "                os.remove(file_path)\n",
    "                print(f\"Converted and deleted: {file_path}\")\n",
    "\n",
    "print(\"Conversion to PDF and deletion of original files completed.\")\n"
   ]
  },
  {
   "cell_type": "markdown",
   "metadata": {},
   "source": [
    "## Mergea os arquivos .pdf em um único arquivo."
   ]
  },
  {
   "cell_type": "code",
   "execution_count": null,
   "metadata": {},
   "outputs": [],
   "source": [
    "for folder_name in os.listdir(source_dir):\n",
    "    folder_path = os.path.join(source_dir, folder_name)\n",
    "\n",
    "    if os.path.isdir(folder_path):\n",
    "        merger = PdfMerger()\n",
    "        files_merged = False\n",
    "\n",
    "        for file_name in sorted(os.listdir(folder_path)):\n",
    "            if file_name.lower().endswith('.pdf'):\n",
    "                file_path = os.path.join(folder_path, file_name)\n",
    "                try:\n",
    "                    merger.append(file_path)\n",
    "                    files_merged = True\n",
    "                except Exception as e:\n",
    "                    print(f\"Error processing {file_path}: {e}\")\n",
    "\n",
    "        if files_merged:\n",
    "            output_pdf_path = os.path.join(folder_path, \"merged.pdf\")\n",
    "            merger.write(output_pdf_path)\n",
    "            merger.close()\n",
    "\n",
    "print(\"Merging of PDF files into 'merged.pdf' in each folder is complete.\")\n"
   ]
  },
  {
   "cell_type": "markdown",
   "metadata": {},
   "source": [
    "## Exporta os arquivos mergeados e apaga a pasta originária"
   ]
  },
  {
   "cell_type": "code",
   "execution_count": null,
   "metadata": {},
   "outputs": [],
   "source": [
    "def get_new_filename(original_path):\n",
    "    \"\"\"Generate a new file name if a file with the same name already exists.\"\"\"\n",
    "    base, extension = os.path.splitext(original_path)\n",
    "    counter = 1\n",
    "\n",
    "    while True:\n",
    "        new_path = f\"{base} ({counter}){extension}\"\n",
    "        if not os.path.exists(new_path):\n",
    "            return new_path\n",
    "        counter += 1\n",
    "\n",
    "for folder_name in os.listdir(source_dir):\n",
    "    folder_path = os.path.join(source_dir, folder_name)\n",
    "\n",
    "    if os.path.isdir(folder_path):\n",
    "        merged_file_path = os.path.join(folder_path, \"merged.pdf\")\n",
    "\n",
    "        if os.path.isfile(merged_file_path):\n",
    "            # Check if a file with the same name exists in the source directory\n",
    "            if os.path.exists(os.path.join(source_dir, \"merged.pdf\")):\n",
    "                new_file_path = get_new_filename(os.path.join(source_dir, \"merged.pdf\"))\n",
    "                shutil.move(merged_file_path, new_file_path)\n",
    "            else:\n",
    "                shutil.move(merged_file_path, source_dir)\n",
    "\n",
    "            # Delete the folder and all its contents\n",
    "            shutil.rmtree(folder_path)\n",
    "        else:\n",
    "            print(f\"'merged.pdf' not found in {folder_path}\")\n",
    "\n",
    "print(\"Operation completed. 'merged.pdf' files moved with unique names and folders deleted.\")\n"
   ]
  },
  {
   "cell_type": "code",
   "execution_count": null,
   "metadata": {},
   "outputs": [],
   "source": []
  }
 ],
 "metadata": {
  "kernelspec": {
   "display_name": "lewagon",
   "language": "python",
   "name": "python3"
  },
  "language_info": {
   "codemirror_mode": {
    "name": "ipython",
    "version": 3
   },
   "file_extension": ".py",
   "mimetype": "text/x-python",
   "name": "python",
   "nbconvert_exporter": "python",
   "pygments_lexer": "ipython3",
   "version": "3.10.6"
  }
 },
 "nbformat": 4,
 "nbformat_minor": 2
}
